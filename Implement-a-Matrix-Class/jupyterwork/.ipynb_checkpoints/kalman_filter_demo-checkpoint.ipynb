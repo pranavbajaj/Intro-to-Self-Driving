{
 "cells": [
  {
   "cell_type": "markdown",
   "metadata": {},
   "source": [
    "# Kalman Filter and your Matrix Class\n",
    "\n",
    "Once you have a working matrix class, you can use the class to run a Kalman filter! \n",
    "\n",
    "You will need to put your matrix class into the workspace:\n",
    "* Click above on the \"JUPYTER\" logo. \n",
    "* Then open the matrix.py file, and copy in your code there. \n",
    "* Make sure to save the matrix.py file. \n",
    "* Then click again on the \"JUPYTER\" logo and open this file again.\n",
    "\n",
    "You can also download this file kalman_filter_demo.ipynb and run the demo locally on your own computer.\n",
    "\n",
    "Once you have our matrix class loaded, you are ready to go through the demo. Read through this file and run each cell one by one. You do not need to write any code in this Ipython notebook.\n",
    "\n",
    "The demonstration has two different sections. The first section creates simulated data. The second section runs a Kalman filter on the data and visualizes the results."
   ]
  },
  {
   "cell_type": "markdown",
   "metadata": {},
   "source": [
    "### Kalman Filters - Why are they useful?\n",
    "\n",
    "Kalman filters are really good at taking noisy sensor data and smoothing out the data to make more accurate predictions. For autonomous vehicles, Kalman filters can be used in object tracking. \n",
    "\n",
    "\n",
    "### Kalman Filters and Sensors\n",
    "Object tracking is often done with radar and lidar sensors placed around the vehicle. A radar sensor can directly measure the distance and velocity of objects moving around the vehicle. A lidar sensor only measures distance.\n",
    "\n",
    "Put aside a Kalman filter for a minute and think about how you could use lidar data to track an object. Let's say there is a bicyclist riding around in front of you. You send out a lidar signal and receive the signal back. The lidar sensor tells you that the bicycle is 10 meters directly ahead of you but gives you no velocity information.\n",
    "\n",
    "By the time your lidar device sends out another signal, maybe 0.05 seconds will have passed. But during those 0.05 seconds, your vehicle still needs to keep track of the bicycle. So your vehicle will predict where it thinks the bycicle will be. But your vehicle has no bicycle velocity information.\n",
    "\n",
    "After 0.05 seconds, the lidar device sends out and receives another signal. This time, the bicycle is 9.95 meters ahead of you. Now you know that the bicycle is traveling -1 meter per second towards you. For the next -.05 seconds, your vehicle will assume the bicycle is traveling -1 m/s towards you. Then another lidar signal goes out and comes back, and you can update the position and velocity again.\n",
    "\n",
    "### Sensor Noise\n",
    "Unfortunately, lidar and radar signals are noisy. In other words, they are somewhat inacurrate. A Kalman filter helps to smooth out the noise so that you get a better fix on the bicycle's true position and velocity. \n",
    "\n",
    "A Kalman filter does this by weighing the uncertainty in your belief about the location versus the uncertainty in the lidar or radar measurement. If your belief is very uncertain, the Kalman filter gives more weight to the sensor. If the sensor measurement has more uncertainty, your belief about the location gets more weight than the sensor mearuement. \n",
    "\n"
   ]
  },
  {
   "cell_type": "markdown",
   "metadata": {},
   "source": [
    "# Part 1 - Generate Data\n",
    "\n",
    "The next few cells in the Ipython notebook generate simulation data. Imagine you are in a vehicle and tracking another car in front of you. All of the data you track will be relative to your position.  \n",
    "\n",
    "In this simulation, you are on a one-dimensional road where the car you are tracking can only move forwards or backwards. For this simulated data, the tracked vehicle starts 5 meters ahead of you traveling at 100 km/h. The vehicle is accelerating at -10 m/s^2. In other words, the vehicle is slowing down. \n",
    "\n",
    "Once the vehicle stops at 0 km/h, the car stays idle for 5 seconds. Then the vehicle continues accelerating towards you until the vehicle is traveling at -10 km/h. The vehicle travels at -10 km/h for 5 seconds. Don't worry too much about the trajectory of the other vehicle; this will be displayed for you in a visualization\n",
    "\n",
    "\n",
    "You have a single lidar sensor on your vehicle that is tracking the other car. The lidar sensor takes a measurment once every 50 milliseconds.\n",
    "\n",
    "Run the code cell below to start the simulator and collect data about the tracked car. Noticed the line \n",
    "`import matrix as m`, which imports your matrix code from the final project. You will not see any output yet when running this cell."
   ]
  },
  {
   "cell_type": "code",
   "execution_count": null,
   "metadata": {
    "collapsed": true
   },
   "outputs": [],
   "source": [
    "%matplotlib inline\n",
    "\n",
    "import pandas as pd\n",
    "import math\n",
    "import matplotlib.pyplot as plt\n",
    "import matplotlib\n",
    "import datagenerator\n",
    "import matrix as m\n",
    "\n",
    "matplotlib.rcParams.update({'font.size': 16})\n",
    "\n",
    "# data_groundtruth() has the following inputs:\n",
    "# Generates Data\n",
    "# Input variables are:\n",
    "# initial position meters\n",
    "# initial velocity km/h\n",
    "# final velocity (should be a negative number) km/h\n",
    "# acceleration (should be a negative number) m/s^2\n",
    "# how long the vehicle should idle \n",
    "# how long the vehicle should drive in reverse at constant velocity\n",
    "# time between lidar measurements in milliseconds\n",
    "\n",
    "time_groundtruth, distance_groundtruth, velocity_groundtruth, acceleration_groundtruth = datagenerator.generate_data(5, 100, -10, -10,\n",
    "                                                                                              5000, 5000, 50)\n",
    "data_groundtruth = pd.DataFrame(\n",
    "    {'time': time_groundtruth,\n",
    "     'distance': distance_groundtruth,\n",
    "     'velocity': velocity_groundtruth,\n",
    "     'acceleration': acceleration_groundtruth\n",
    "    })"
   ]
  },
  {
   "cell_type": "markdown",
   "metadata": {},
   "source": [
    "### Visualizing the Tracked Object Distance\n",
    "\n",
    "The next cell visualizes the simulating data. The first visualization shows the object distance over time. You can see that the car is moving forward although decelerating. Then the car stops for 5 seconds and then drives backwards for 5 seconds."
   ]
  },
  {
   "cell_type": "code",
   "execution_count": null,
   "metadata": {
    "collapsed": true
   },
   "outputs": [],
   "source": [
    "ax1 = data_groundtruth.plot(kind='line', x='time', y='distance', title='Object Distance Versus Time')\n",
    "ax1.set(xlabel='time (milliseconds)', ylabel='distance (meters)')"
   ]
  },
  {
   "cell_type": "markdown",
   "metadata": {},
   "source": [
    "### Visualizing Velocity Over Time\n",
    "\n",
    "The next cell outputs a visualization of the velocity over time. The tracked car starts at 100 km/h and decelerates to 0 km/h. Then the car idles and eventually starts to decelerate again until reaching -10 km/h. "
   ]
  },
  {
   "cell_type": "code",
   "execution_count": null,
   "metadata": {
    "collapsed": true
   },
   "outputs": [],
   "source": [
    "ax2 = data_groundtruth.plot(kind='line', x='time', y='velocity', title='Object Velocity Versus Time')\n",
    "ax2.set(xlabel='time (milliseconds)', ylabel='velocity (km/h)')"
   ]
  },
  {
   "cell_type": "markdown",
   "metadata": {},
   "source": [
    "### Visualizing Acceleration Over Time\n",
    "\n",
    "This cell visualizes the tracked cars acceleration. The vehicle declerates at 10 m/s^2. Then the vehicle stops for 5 seconds and briefly accelerates again. "
   ]
  },
  {
   "cell_type": "code",
   "execution_count": null,
   "metadata": {
    "collapsed": true
   },
   "outputs": [],
   "source": [
    "data_groundtruth['acceleration'] = data_groundtruth['acceleration'] * 1000 / math.pow(60 * 60, 2)\n",
    "ax3 = data_groundtruth.plot(kind='line', x='time', y='acceleration', title='Object Acceleration Versus Time')\n",
    "ax3.set(xlabel='time (milliseconds)', ylabel='acceleration (m/s^2)')"
   ]
  },
  {
   "cell_type": "markdown",
   "metadata": {},
   "source": [
    "### Simulate Lidar Data"
   ]
  },
  {
   "cell_type": "markdown",
   "metadata": {},
   "source": [
    "The following code cell creates simulated lidar data. Lidar data is noisy, so the simulator takes ground truth measurements every 0.05 seconds and then adds random noise."
   ]
  },
  {
   "cell_type": "code",
   "execution_count": null,
   "metadata": {
    "collapsed": true
   },
   "outputs": [],
   "source": [
    "# make lidar measurements\n",
    "lidar_standard_deviation = 0.15\n",
    "lidar_measurements = datagenerator.generate_lidar(distance_groundtruth, lidar_standard_deviation)\n",
    "lidar_time = time_groundtruth"
   ]
  },
  {
   "cell_type": "markdown",
   "metadata": {},
   "source": [
    "### Visualize Lidar Meausrements\n",
    "\n",
    "Run the following cell to visualize the lidar measurements versus the ground truth. The ground truth is shown in red, and you can see that the lidar measurements are a bit noisy."
   ]
  },
  {
   "cell_type": "code",
   "execution_count": null,
   "metadata": {
    "collapsed": true
   },
   "outputs": [],
   "source": [
    "data_lidar = pd.DataFrame(\n",
    "    {'time': time_groundtruth,\n",
    "     'distance': distance_groundtruth,\n",
    "     'lidar': lidar_measurements\n",
    "    })\n",
    "\n",
    "matplotlib.rcParams.update({'font.size': 22})\n",
    "\n",
    "ax4 = data_lidar.plot(kind='line', x='time', y ='distance', label='ground truth', figsize=(20, 15), alpha=0.8,\n",
    "               title = 'Lidar Measurements Versus Ground Truth', color='red')\n",
    "ax5 = data_lidar.plot(kind='scatter', x ='time', y ='lidar', label='lidar measurements', ax=ax4, alpha=0.6, color='g')\n",
    "ax5.set(xlabel='time (milliseconds)', ylabel='distance (meters)')\n",
    "plt.show()"
   ]
  },
  {
   "cell_type": "markdown",
   "metadata": {},
   "source": [
    "# Part 2 - Using a Kalman Filter\n",
    "\n",
    "The next part of the demonstration will use your matrix class to run a Kalman filter. This first cell initializes variables and defines a few functions.\n",
    "\n",
    "The following cell runs the Kalman filter using the lidar data.\n",
    "\n"
   ]
  },
  {
   "cell_type": "code",
   "execution_count": null,
   "metadata": {
    "collapsed": true
   },
   "outputs": [],
   "source": [
    "# Kalman Filter Initialization\n",
    "\n",
    "initial_distance = 0\n",
    "initial_velocity = 0\n",
    "\n",
    "x_initial = m.Matrix([[initial_distance], [initial_velocity * 1e-3 / (60 * 60)]])\n",
    "P_initial = m.Matrix([[5, 0],[0, 5]])\n",
    "\n",
    "acceleration_variance = 50\n",
    "lidar_variance = math.pow(lidar_standard_deviation, 2)\n",
    "\n",
    "H = m.Matrix([[1, 0]])\n",
    "R = m.Matrix([[lidar_variance]])\n",
    "I = m.identity(2)\n",
    "\n",
    "def F_matrix(delta_t):\n",
    "    return m.Matrix([[1, delta_t], [0, 1]])\n",
    "\n",
    "def Q_matrix(delta_t, variance):\n",
    "    t4 = math.pow(delta_t, 4)\n",
    "    t3 = math.pow(delta_t, 3)\n",
    "    t2 = math.pow(delta_t, 2)\n",
    "    \n",
    "    return variance * m.Matrix([[(1/4)*t4, (1/2)*t3], [(1/2)*t3, t2]])"
   ]
  },
  {
   "cell_type": "markdown",
   "metadata": {},
   "source": [
    "### Run the Kalman filter\n",
    "\n",
    "The next code cell runs the Kalman filter. In this demonstration, the prediction step starts with the second lidar measurement. When the first lidar signal arrives, there is no previous lidar measurement with which to calculate velocity. In other words, the Kalman filter predicts where the vehicle is going to be, but it can't make a prediction until time has passed between the first and second lidar reading. \n",
    "\n",
    "The Kalman filter has two steps: a prediction step and an update step. In the prediction step, the filter uses a motion model to figure out where the object has traveled in between sensor measurements. The update step uses the sensor measurement to adjust the belief about where the object is."
   ]
  },
  {
   "cell_type": "code",
   "execution_count": null,
   "metadata": {
    "collapsed": true
   },
   "outputs": [],
   "source": [
    "# Kalman Filter Implementation\n",
    "\n",
    "x = x_initial\n",
    "P = P_initial\n",
    "\n",
    "x_result = []\n",
    "time_result = []\n",
    "v_result = []\n",
    "\n",
    "\n",
    "for i in range(len(lidar_measurements) - 1):\n",
    "        \n",
    "    # calculate time that has passed between lidar measurements\n",
    "    delta_t = (lidar_time[i + 1] - lidar_time[i]) / 1000.0\n",
    "\n",
    "    # Prediction Step - estimates how far the object traveled during the time interval\n",
    "    F = F_matrix(delta_t)\n",
    "    Q = Q_matrix(delta_t, acceleration_variance)\n",
    "    \n",
    "    x_prime = F * x\n",
    "    P_prime = F * P * F.T() + Q\n",
    "    \n",
    "    # Measurement Update Step - updates belief based on lidar measurement\n",
    "    y = m.Matrix([[lidar_measurements[i + 1]]]) - H * x_prime\n",
    "    S = H * P_prime * H.T() + R\n",
    "    K = P_prime * H.T() * S.inverse()\n",
    "    x = x_prime + K * y\n",
    "    P = (I - K * H) * P_prime\n",
    "\n",
    "    # Store distance and velocity belief and current time\n",
    "    x_result.append(x[0][0])\n",
    "    v_result.append(3600.0/1000 * x[1][0])\n",
    "    time_result.append(lidar_time[i+1])\n",
    "    \n",
    "result = pd.DataFrame(\n",
    "    {'time': time_result,\n",
    "     'distance': x_result,\n",
    "     'velocity': v_result\n",
    "    })"
   ]
  },
  {
   "cell_type": "markdown",
   "metadata": {},
   "source": [
    "### Visualize the Results\n",
    "\n",
    "The following code cell outputs a visualization of the Kalman filter. The chart contains ground turth, the lidar measurements, and the Kalman filter belief. Notice that the Kalman filter tends to smooth out the information obtained from the lidar measurement.\n",
    "\n",
    "It turns out that using multiple sensors like radar and lidar at the same time, will give even better results. Using more than one type of sensor at once is called sensor fusion, which you will learn about in the Self-Driving Car Engineer Nanodegree"
   ]
  },
  {
   "cell_type": "code",
   "execution_count": null,
   "metadata": {
    "collapsed": true
   },
   "outputs": [],
   "source": [
    "ax6 = data_lidar.plot(kind='line', x='time', y ='distance', label='ground truth', figsize=(22, 18), alpha=.3, title='Lidar versus Kalman Filter versus Ground Truth')\n",
    "ax7 = data_lidar.plot(kind='scatter', x ='time', y ='lidar', label='lidar sensor', ax=ax6)\n",
    "ax8 = result.plot(kind='scatter', x = 'time', y = 'distance', label='kalman', ax=ax7, color='r')\n",
    "ax8.set(xlabel='time (milliseconds)', ylabel='distance (meters)')\n",
    "plt.show()"
   ]
  },
  {
   "cell_type": "markdown",
   "metadata": {},
   "source": [
    "### Visualize the Velocity\n",
    "\n",
    "One of the most interesting benefits of Kalman filters is that they can give you insights into variables that you\n",
    "cannot directly measured. Although lidar does not directly give velocity information, the Kalman filter can infer velocity from the lidar measurements.\n",
    "\n",
    "This visualization shows the Kalman filter velocity estimation versus the ground truth. The motion model used in this Kalman filter is relatively simple; it assumes velocity is constant and that acceleration a random noise. You can see that this motion model might be too simplistic because the Kalman filter has trouble predicting velocity as the object decelerates."
   ]
  },
  {
   "cell_type": "code",
   "execution_count": null,
   "metadata": {
    "collapsed": true
   },
   "outputs": [],
   "source": [
    "ax1 = data_groundtruth.plot(kind='line', x='time', y ='velocity', label='ground truth', figsize=(22, 18), alpha=.8, title='Kalman Filter versus Ground Truth Velocity')\n",
    "ax2 = result.plot(kind='scatter', x = 'time', y = 'velocity', label='kalman', ax=ax1, color='r')\n",
    "ax2.set(xlabel='time (milliseconds)', ylabel='velocity (km/h)')\n",
    "plt.show()"
   ]
  }
 ],
 "metadata": {
  "kernelspec": {
   "display_name": "Python 3",
   "language": "python",
   "name": "python3"
  },
  "language_info": {
   "codemirror_mode": {
    "name": "ipython",
    "version": 3
   },
   "file_extension": ".py",
   "mimetype": "text/x-python",
   "name": "python",
   "nbconvert_exporter": "python",
   "pygments_lexer": "ipython3",
   "version": "3.6.1"
  }
 },
 "nbformat": 4,
 "nbformat_minor": 2
}
